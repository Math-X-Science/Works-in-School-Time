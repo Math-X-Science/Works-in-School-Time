{
 "cells": [
  {
   "cell_type": "code",
   "execution_count": 1,
   "id": "3c8e83df-5318-43a8-bf43-d696fad62afd",
   "metadata": {},
   "outputs": [
    {
     "name": "stderr",
     "output_type": "stream",
     "text": [
      "/home/xnne/miniconda3/envs/nlp/lib/python3.10/site-packages/tqdm/auto.py:21: TqdmWarning: IProgress not found. Please update jupyter and ipywidgets. See https://ipywidgets.readthedocs.io/en/stable/user_install.html\n",
      "  from .autonotebook import tqdm as notebook_tqdm\n"
     ]
    },
    {
     "data": {
      "text/plain": [
       "\"Robert Cohn was once middleweight boxing champion of Princeton. Do not think that I am very much impressed by that as a boxing title, but it meant a lot to Cohn. He cared nothing for boxing, in fact he disliked it, but he learned it painfully and thoroughly to counteract the feeling of inferiority and shyness he had felt on being treated as a Jew at Princeton. There was a certain inner comfort in knowing he could knock down anybody who was snooty to him, although, being very shy and a thoroughly nice boy, he never fought except in the gym. He was Spider Kelly's star pupil. Spider Kelly taught all his young gentlemen to box like featherweights, no matter whether they weighed one hundred and five or two hundred and five pounds. But it seemed to fit Cohn. He was really very fast. He was so good that Spider promptly overmatched him and got his nose permanently flattened. This increased Cohn's distaste for boxing, but it gave him a certain satisfaction of some strange sort, and it certainly improved his nose. In his last year at Princeton he read too much and took to wearing spectacles. I never met any one of his class who remembered him. They did not even remember that he was middleweight boxing champion.\\n\\nI mistrust all frank and simple people, especially when their stories hold together, and I always had a suspicion that perhaps Robert Cohn had never been middleweight boxing champion, and that perhaps a horse had stepped on his face, or that maybe his mother had been frightened or seen something, or that he had, maybe, bumped into something as a young child, but I finally had somebody verify the story from Spider Kelly. Spider Kelly not only remembered Cohn. He had often wondered what had become of him.\\n\\nRobert Cohn was a member, through his father, of one of the richest Jewish families in New York, and through his mother of one of the oldest. At the military school where he prepped for Princeton, and played a very good end on the football team, no one had made him ra\""
      ]
     },
     "execution_count": 1,
     "metadata": {},
     "output_type": "execute_result"
    }
   ],
   "source": [
    "import pandas as pd\n",
    "import re\n",
    "import nltk\n",
    "import string\n",
    "from pathlib import Path\n",
    "pd.options.mode.chained_assignment = None\n",
    "\n",
    "book = Path(\"./input/The_Sun_Also_Rises.txt\")\n",
    "with book.open() as f:\n",
    "    input_data = f.read()\n",
    "\n",
    "data = input_data[:2000]\n",
    "data"
   ]
  },
  {
   "cell_type": "markdown",
   "id": "862b6847-93f9-4381-945b-b90b11823b3d",
   "metadata": {},
   "source": [
    "## 去除emoji"
   ]
  },
  {
   "cell_type": "code",
   "execution_count": 2,
   "id": "633af4d5-894d-413f-ae7a-214b624f5c27",
   "metadata": {},
   "outputs": [
    {
     "data": {
      "text/plain": [
       "\"Robert Cohn was once middleweight boxing champion of Princeton. Do not think that I am very much impressed by that as a boxing title, but it meant a lot to Cohn. He cared nothing for boxing, in fact he disliked it, but he learned it painfully and thoroughly to counteract the feeling of inferiority and shyness he had felt on being treated as a Jew at Princeton. There was a certain inner comfort in knowing he could knock down anybody who was snooty to him, although, being very shy and a thoroughly nice boy, he never fought except in the gym. He was Spider Kelly's star pupil. Spider Kelly taught all his young gentlemen to box like featherweights, no matter whether they weighed one hundred and five or two hundred and five pounds. But it seemed to fit Cohn. He was really very fast. He was so good that Spider promptly overmatched him and got his nose permanently flattened. This increased Cohn's distaste for boxing, but it gave him a certain satisfaction of some strange sort, and it certainly improved his nose. In his last year at Princeton he read too much and took to wearing spectacles. I never met any one of his class who remembered him. They did not even remember that he was middleweight boxing champion.\\n\\nI mistrust all frank and simple people, especially when their stories hold together, and I always had a suspicion that perhaps Robert Cohn had never been middleweight boxing champion, and that perhaps a horse had stepped on his face, or that maybe his mother had been frightened or seen something, or that he had, maybe, bumped into something as a young child, but I finally had somebody verify the story from Spider Kelly. Spider Kelly not only remembered Cohn. He had often wondered what had become of him.\\n\\nRobert Cohn was a member, through his father, of one of the richest Jewish families in New York, and through his mother of one of the oldest. At the military school where he prepped for Princeton, and played a very good end on the football team, no one had made him ra\""
      ]
     },
     "execution_count": 2,
     "metadata": {},
     "output_type": "execute_result"
    }
   ],
   "source": [
    "def remove_emoji(string):\n",
    "    emoji_pattern = re.compile(\"[\"\n",
    "                           u\"\\U0001F600-\\U0001F64F\"# emoticons  \n",
    "                           u\"\\U0001F300-\\U0001F5FF\"# symbols & pictographs\n",
    "                           u\"\\U0001F680-\\U0001F6FF\"# transport & map symbols  \n",
    "                           u\"\\U0001F1E0-\\U0001F1FF\"# flags (iOS)\n",
    "                           u\"\\U00002702-\\U000027B0\"\n",
    "                           u\"\\U000024C2-\\U0001F251\"\n",
    "                           \"]+\", flags=re.UNICODE)\n",
    "    return emoji_pattern.sub(r'', string)\n",
    "data = remove_emoji(data)\n",
    "data"
   ]
  },
  {
   "cell_type": "markdown",
   "id": "3d1e916c-6630-4ac3-9fb8-48a11d8ddf81",
   "metadata": {},
   "source": [
    "## 采用小写"
   ]
  },
  {
   "cell_type": "code",
   "execution_count": 3,
   "id": "51a63aed-2381-4341-be1d-5380c535511e",
   "metadata": {},
   "outputs": [
    {
     "data": {
      "text/plain": [
       "\"robert cohn was once middleweight boxing champion of princeton. do not think that i am very much impressed by that as a boxing title, but it meant a lot to cohn. he cared nothing for boxing, in fact he disliked it, but he learned it painfully and thoroughly to counteract the feeling of inferiority and shyness he had felt on being treated as a jew at princeton. there was a certain inner comfort in knowing he could knock down anybody who was snooty to him, although, being very shy and a thoroughly nice boy, he never fought except in the gym. he was spider kelly's star pupil. spider kelly taught all his young gentlemen to box like featherweights, no matter whether they weighed one hundred and five or two hundred and five pounds. but it seemed to fit cohn. he was really very fast. he was so good that spider promptly overmatched him and got his nose permanently flattened. this increased cohn's distaste for boxing, but it gave him a certain satisfaction of some strange sort, and it certainly improved his nose. in his last year at princeton he read too much and took to wearing spectacles. i never met any one of his class who remembered him. they did not even remember that he was middleweight boxing champion.\\n\\ni mistrust all frank and simple people, especially when their stories hold together, and i always had a suspicion that perhaps robert cohn had never been middleweight boxing champion, and that perhaps a horse had stepped on his face, or that maybe his mother had been frightened or seen something, or that he had, maybe, bumped into something as a young child, but i finally had somebody verify the story from spider kelly. spider kelly not only remembered cohn. he had often wondered what had become of him.\\n\\nrobert cohn was a member, through his father, of one of the richest jewish families in new york, and through his mother of one of the oldest. at the military school where he prepped for princeton, and played a very good end on the football team, no one had made him ra\""
      ]
     },
     "execution_count": 3,
     "metadata": {},
     "output_type": "execute_result"
    }
   ],
   "source": [
    "data = data.lower()\n",
    "data"
   ]
  },
  {
   "cell_type": "markdown",
   "id": "dbf841fd-2765-4220-9135-06e14a7adfd9",
   "metadata": {},
   "source": [
    "## 删除标点符号"
   ]
  },
  {
   "cell_type": "code",
   "execution_count": 4,
   "id": "9315a3c1-4b38-4fe7-b33b-d37cce521f0a",
   "metadata": {},
   "outputs": [
    {
     "data": {
      "text/plain": [
       "'robert cohn was once middleweight boxing champion of princeton do not think that i am very much impressed by that as a boxing title but it meant a lot to cohn he cared nothing for boxing in fact he disliked it but he learned it painfully and thoroughly to counteract the feeling of inferiority and shyness he had felt on being treated as a jew at princeton there was a certain inner comfort in knowing he could knock down anybody who was snooty to him although being very shy and a thoroughly nice boy he never fought except in the gym he was spider kellys star pupil spider kelly taught all his young gentlemen to box like featherweights no matter whether they weighed one hundred and five or two hundred and five pounds but it seemed to fit cohn he was really very fast he was so good that spider promptly overmatched him and got his nose permanently flattened this increased cohns distaste for boxing but it gave him a certain satisfaction of some strange sort and it certainly improved his nose in his last year at princeton he read too much and took to wearing spectacles i never met any one of his class who remembered him they did not even remember that he was middleweight boxing champion\\n\\ni mistrust all frank and simple people especially when their stories hold together and i always had a suspicion that perhaps robert cohn had never been middleweight boxing champion and that perhaps a horse had stepped on his face or that maybe his mother had been frightened or seen something or that he had maybe bumped into something as a young child but i finally had somebody verify the story from spider kelly spider kelly not only remembered cohn he had often wondered what had become of him\\n\\nrobert cohn was a member through his father of one of the richest jewish families in new york and through his mother of one of the oldest at the military school where he prepped for princeton and played a very good end on the football team no one had made him ra'"
      ]
     },
     "execution_count": 4,
     "metadata": {},
     "output_type": "execute_result"
    }
   ],
   "source": [
    "PUNCT_TO_REMOVE = string.punctuation\n",
    "def remove_punctuation(text):\n",
    "    \"\"\"custom function to remove the punctuation\"\"\"\n",
    "    return text.translate(str.maketrans('', '', PUNCT_TO_REMOVE))\n",
    "\n",
    "data = remove_punctuation(data)\n",
    "data"
   ]
  },
  {
   "cell_type": "markdown",
   "id": "ca2e99c5-5d45-4b99-9752-da97f7569ec6",
   "metadata": {},
   "source": [
    "## 去除停顿词"
   ]
  },
  {
   "cell_type": "code",
   "execution_count": null,
   "id": "58d6b2f4-a794-41d7-975e-59fc58e53866",
   "metadata": {},
   "outputs": [
    {
     "name": "stderr",
     "output_type": "stream",
     "text": [
      "[nltk_data] Downloading package stopwords to /home/xnne/nltk_data...\n",
      "[nltk_data]   Package stopwords is already up-to-date!\n"
     ]
    },
    {
     "data": {
      "text/plain": [
       "\"i, me, my, myself, we, our, ours, ourselves, you, you're, you've, you'll, you'd, your, yours, yourself, yourselves, he, him, his, himself, she, she's, her, hers, herself, it, it's, its, itself, they, them, their, theirs, themselves, what, which, who, whom, this, that, that'll, these, those, am, is, are, was, were, be, been, being, have, has, had, having, do, does, did, doing, a, an, the, and, but, if, or, because, as, until, while, of, at, by, for, with, about, against, between, into, through, during, before, after, above, below, to, from, up, down, in, out, on, off, over, under, again, further, then, once, here, there, when, where, why, how, all, any, both, each, few, more, most, other, some, such, no, nor, not, only, own, same, so, than, too, very, s, t, can, will, just, don, don't, should, should've, now, d, ll, m, o, re, ve, y, ain, aren, aren't, couldn, couldn't, didn, didn't, doesn, doesn't, hadn, hadn't, hasn, hasn't, haven, haven't, isn, isn't, ma, mightn, mightn't, mustn, mustn't, needn, needn't, shan, shan't, shouldn, shouldn't, wasn, wasn't, weren, weren't, won, won't, wouldn, wouldn't\""
      ]
     },
     "execution_count": 5,
     "metadata": {},
     "output_type": "execute_result"
    }
   ],
   "source": [
    "from nltk.corpus import stopwords\n",
    "nltk.download('stopwords')\n",
    "\", \".join(stopwords.words('english'))"
   ]
  },
  {
   "cell_type": "code",
   "execution_count": 6,
   "id": "1a36d413-2473-4277-927b-4e27e36f365d",
   "metadata": {},
   "outputs": [
    {
     "data": {
      "text/plain": [
       "'robert cohn middleweight boxing champion princeton think much impressed boxing title meant lot cohn cared nothing boxing fact disliked learned painfully thoroughly counteract feeling inferiority shyness felt treated jew princeton certain inner comfort knowing could knock anybody snooty although shy thoroughly nice boy never fought except gym spider kellys star pupil spider kelly taught young gentlemen box like featherweights matter whether weighed one hundred five two hundred five pounds seemed fit cohn really fast good spider promptly overmatched got nose permanently flattened increased cohns distaste boxing gave certain satisfaction strange sort certainly improved nose last year princeton read much took wearing spectacles never met one class remembered even remember middleweight boxing champion mistrust frank simple people especially stories hold together always suspicion perhaps robert cohn never middleweight boxing champion perhaps horse stepped face maybe mother frightened seen something maybe bumped something young child finally somebody verify story spider kelly spider kelly remembered cohn often wondered become robert cohn member father one richest jewish families new york mother one oldest military school prepped princeton played good end football team one made ra'"
      ]
     },
     "execution_count": 6,
     "metadata": {},
     "output_type": "execute_result"
    }
   ],
   "source": [
    "STOPWORDS = set(stopwords.words('english'))\n",
    "def remove_stopwords(text):\n",
    "    \"\"\"custom function to remove the stopwords\"\"\"\n",
    "    return \" \".join([word for word in str(text).split() if word.lower() not in STOPWORDS])\n",
    "\n",
    "data = remove_stopwords(data)\n",
    "data"
   ]
  },
  {
   "cell_type": "markdown",
   "id": "5d68495f-dd09-4f97-8816-354ac432c902",
   "metadata": {},
   "source": [
    "## 删除生僻词"
   ]
  },
  {
   "cell_type": "code",
   "execution_count": 9,
   "id": "8e528285-7a1e-4f41-a471-4646f24258c3",
   "metadata": {},
   "outputs": [
    {
     "data": {
      "text/plain": [
       "'robert cohn middleweight boxing champion princeton think much impressed boxing title meant lot cohn cared nothing boxing fact disliked learned painfully thoroughly counteract feeling inferiority shyness felt treated jew princeton certain inner comfort knowing could knock anybody snooty although shy thoroughly nice boy never fought except gym spider kellys star pupil spider kelly taught young gentlemen box like featherweights matter whether weighed one hundred five two hundred five pounds seemed fit cohn really fast good spider promptly overmatched got nose permanently flattened increased cohns distaste boxing gave certain satisfaction strange sort certainly improved nose last year princeton read much took wearing spectacles never met one class remembered even remember middleweight boxing champion mistrust frank simple people especially stories hold together always suspicion perhaps robert cohn never middleweight boxing champion perhaps horse stepped face maybe mother frightened seen something maybe bumped something young child finally somebody verify story spider kelly spider kelly remembered cohn often wondered become robert cohn member father one richest jewish families new york mother one oldest military school prepped princeton played good end football team one made ra'"
      ]
     },
     "execution_count": 9,
     "metadata": {},
     "output_type": "execute_result"
    }
   ],
   "source": [
    "from collections import Counter\n",
    "cnt = Counter(data)\n",
    "\n",
    "n_rare_words = 10\n",
    "RAREWORDS = set([w for (w, wc) in cnt.most_common()[:-n_rare_words-1:-1]])\n",
    "def remove_rarewords(text):\n",
    "    \"\"\"custom function to remove the rare words\"\"\"\n",
    "    return \" \".join([word for word in str(text).split() if word not in RAREWORDS])\n",
    "\n",
    "data = remove_rarewords(data)\n",
    "data"
   ]
  },
  {
   "cell_type": "markdown",
   "id": "5a158502-d85b-4408-a0e4-5785ba366902",
   "metadata": {},
   "source": [
    "## 使用词干"
   ]
  },
  {
   "cell_type": "code",
   "execution_count": 10,
   "id": "5f90b6d2-96d6-4b2f-9d26-ad3f0bdb40ff",
   "metadata": {},
   "outputs": [
    {
     "data": {
      "text/plain": [
       "'robert cohn middleweight box champion princeton think much impress box titl meant lot cohn care noth box fact dislik learn pain thoroughli counteract feel inferior shyness felt treat jew princeton certain inner comfort know could knock anybodi snooti although shi thoroughli nice boy never fought except gym spider kelli star pupil spider kelli taught young gentlemen box like featherweight matter whether weigh one hundr five two hundr five pound seem fit cohn realli fast good spider promptli overmatch got nose perman flatten increas cohn distast box gave certain satisfact strang sort certainli improv nose last year princeton read much took wear spectacl never met one class rememb even rememb middleweight box champion mistrust frank simpl peopl especi stori hold togeth alway suspicion perhap robert cohn never middleweight box champion perhap hors step face mayb mother frighten seen someth mayb bump someth young child final somebodi verifi stori spider kelli spider kelli rememb cohn often wonder becom robert cohn member father one richest jewish famili new york mother one oldest militari school prep princeton play good end footbal team one made ra'"
      ]
     },
     "execution_count": 10,
     "metadata": {},
     "output_type": "execute_result"
    }
   ],
   "source": [
    "from nltk.stem.porter import PorterStemmer\n",
    "\n",
    "stemmer = PorterStemmer()\n",
    "def stem_words(text):\n",
    "    return \" \".join([stemmer.stem(word) for word in text.split()])\n",
    "\n",
    "data = stem_words(data)\n",
    "data"
   ]
  },
  {
   "cell_type": "code",
   "execution_count": 11,
   "id": "152f5fad-67ce-43fa-bf99-35471cccd20b",
   "metadata": {},
   "outputs": [
    {
     "name": "stdout",
     "output_type": "stream",
     "text": [
      "ORIGIN:\n",
      "Robert Cohn was once middleweight boxing champion of Princeton. Do not think that I am very much impressed by that as a boxing title, but it meant a lot to Cohn. He cared nothing for boxing, in fact he disliked it, but he learned it painfully and thoroughly to counteract the feeling of inferiority and shyness he had felt on being treated as a Jew at Princeton. There was a certain inner comfort in knowing he could knock down anybody who was snooty to him, although, being very shy and a thoroughly nice boy, he never fought except in the gym. He was Spider Kelly's star pupil. Spider Kelly taught all his young gentlemen to box like featherweights, no matter whether they weighed one hundred and five or two hundred and five pounds. But it seemed to fit Cohn. He was really very fast. He was so good that Spider promptly overmatched him and got his nose permanently flattened. This increased Cohn's distaste for boxing, but it gave him a certain satisfaction of some strange sort, and it certainly\n",
      "\n",
      "PROCESSED:\n",
      "robert cohn middleweight box champion princeton think much impress box titl meant lot cohn care noth box fact dislik learn pain thoroughli counteract feel inferior shyness felt treat jew princeton certain inner comfort know could knock anybodi snooti although shi thoroughli nice boy never fought except gym spider kelli star pupil spider kelli taught young gentlemen box like featherweight matter whether weigh one hundr five two hundr five pound seem fit cohn realli fast good spider promptli overmatch got nose perman flatten increas cohn distast box gave certain satisfact strang sort certainli improv nose last year princeton read much took wear spectacl never met one class rememb even rememb middleweight box champion mistrust frank simpl peopl especi stori hold togeth alway suspicion perhap robert cohn never middleweight box champion perhap hors step face mayb mother frighten seen someth mayb bump someth young child final somebodi verifi stori spider kelli spider kelli rememb cohn often \n"
     ]
    }
   ],
   "source": [
    "book = Path(\"./input/The_Sun_Also_Rises.txt\")\n",
    "with book.open() as f:\n",
    "    input_data = f.read()\n",
    "\n",
    "print(f\"ORIGIN:\\n{input_data[:1000]}\\n\")\n",
    "\n",
    "input_data = remove_emoji(input_data)\n",
    "input_data = input_data.lower() # 趋向保留\n",
    "input_data = input_data.strip()\n",
    "input_data = remove_punctuation(input_data) # 趋向保留\n",
    "input_data = remove_stopwords(input_data) # 趋向保留\n",
    "input_data = remove_rarewords(input_data) # 趋向保留\n",
    "input_data = stem_words(input_data) # 趋向保留\n",
    "\n",
    "print(f\"PROCESSED:\\n{input_data[:1000]}\")"
   ]
  },
  {
   "cell_type": "code",
   "execution_count": 13,
   "id": "d42fb0a1-4e3e-4740-9ba7-ffd0fff1229c",
   "metadata": {},
   "outputs": [
    {
     "name": "stdout",
     "output_type": "stream",
     "text": [
      "High frequency words:\n",
      "said:966\n",
      "brett:432\n",
      "go:428\n",
      "bill:345\n",
      "went:298\n",
      "look:288\n",
      "dont:277\n",
      "one:269\n",
      "mike:251\n",
      "like:250\n",
      "\n",
      "Low frequency words:\n",
      "middleweight: 3\n",
      "champion: 3\n",
      "impress: 5\n",
      "fact: 5\n",
      "dislik: 2\n",
      "thoroughli: 2\n",
      "counteract: 1\n",
      "inferior: 1\n",
      "shyness: 1\n",
      "treat: 2\n"
     ]
    }
   ],
   "source": [
    "from collections import Counter\n",
    "cnt = Counter(input_data)\n",
    "\n",
    "word = input_data.split(\" \")\n",
    "word_counts = Counter(word)\n",
    "print(\"High frequency words:\")\n",
    "for word, count in word_counts.most_common(10):\n",
    "    print(f\"{word}:{count}\")\n",
    "\n",
    "print(\"\\nLow frequency words:\")\n",
    "low_freq_words = [word for word, count in word_counts.items() if count <= 5]\n",
    "for word in low_freq_words[:10]:\n",
    "    print(f\"{word}: {word_counts[word]}\")"
   ]
  },
  {
   "cell_type": "code",
   "execution_count": null,
   "id": "ef511174-bfee-4a93-8a62-b94a69dfe76b",
   "metadata": {},
   "outputs": [],
   "source": []
  },
  {
   "cell_type": "code",
   "execution_count": null,
   "id": "969c34b3-191a-490b-ba37-afb37cd4e7fa",
   "metadata": {},
   "outputs": [],
   "source": []
  },
  {
   "cell_type": "code",
   "execution_count": null,
   "id": "0b62548b-8f90-4c28-be12-47390e3bd3fd",
   "metadata": {},
   "outputs": [],
   "source": []
  }
 ],
 "metadata": {
  "kernelspec": {
   "display_name": "Python 3 (ipykernel)",
   "language": "python",
   "name": "python3"
  },
  "language_info": {
   "codemirror_mode": {
    "name": "ipython",
    "version": 3
   },
   "file_extension": ".py",
   "mimetype": "text/x-python",
   "name": "python",
   "nbconvert_exporter": "python",
   "pygments_lexer": "ipython3",
   "version": "3.10.15"
  }
 },
 "nbformat": 4,
 "nbformat_minor": 5
}
